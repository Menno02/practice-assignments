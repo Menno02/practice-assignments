{
 "cells": [
  {
   "cell_type": "markdown",
   "metadata": {},
   "source": [
    "# Additional - Beam\n",
    "\n",
    "![](https://raw.githubusercontent.com/ibcmrocha/public/main/beam.png)\n",
    "\n",
    "With:\n",
    "- $l_1 = 5.5$\n",
    "- $l_2 = 5.0$\n",
    "- $EI_1 = 5000$\n",
    "- $EI_2 = 8000$\n",
    "- $q = 6$\n",
    "- $F = 40$\n",
    "- $T = 50$\n",
    "\n",
    "Solve this problem."
   ]
  },
  {
   "cell_type": "code",
   "execution_count": null,
   "metadata": {},
   "outputs": [],
   "source": [
    "import numpy as np\n",
    "import matplotlib as plt\n",
    "import matrixmethod as mm\n",
    "%config InlineBackend.figure_formats = ['svg']"
   ]
  },
  {
   "cell_type": "code",
   "execution_count": null,
   "metadata": {},
   "outputs": [],
   "source": [
    "L1 = 5.5\n",
    "L2 = 5.0\n",
    "EI1 = 5000\n",
    "EI2 = 8000\n",
    "q = 6\n",
    "F = 40\n",
    "T = 50\n",
    "\n",
    "nodeA = mm.Node(0, 0)\n",
    "nodeB = mm.Node(L1, 0)\n",
    "nodeC = mm.Node(L1 + L2, 0)\n",
    "\n",
    "elemAB = mm.Element(nodeA, nodeB)\n",
    "elemAB.set_section({'EI': EI1})\n",
    "elemBC = mm.Element(nodeB, nodeC)\n",
    "elemBC.set_section({'EI': EI2})\n",
    "\n",
    "con = mm.Constrainer()\n",
    "\n",
    "con.fix_node(nodeC)\n",
    "con.fix_dof(nodeA, 1)\n",
    "\n",
    "nodeB.add_load([0, F, -T])\n",
    "elemAB.add_distributed_load(q)"
   ]
  }
 ],
 "metadata": {
  "kernelspec": {
   "display_name": "base",
   "language": "python",
   "name": "python3"
  },
  "language_info": {
   "codemirror_mode": {
    "name": "ipython",
    "version": 3
   },
   "file_extension": ".py",
   "mimetype": "text/x-python",
   "name": "python",
   "nbconvert_exporter": "python",
   "pygments_lexer": "ipython3",
   "version": "3.9.18"
  }
 },
 "nbformat": 4,
 "nbformat_minor": 2
}
